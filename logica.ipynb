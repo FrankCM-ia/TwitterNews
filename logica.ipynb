{
 "cells": [
  {
   "cell_type": "markdown",
   "source": [
    "IMPORTAR RECURSOS"
   ],
   "metadata": {}
  },
  {
   "cell_type": "code",
   "execution_count": null,
   "source": [
    "from stop_words import get_stop_words\r\n",
    "from sklearn.feature_extraction.text import CountVectorizer, TfidfTransformer\r\n",
    "from functions import *\r\n",
    "from getTweets import *\r\n",
    "from processTopic import *\r\n",
    "from entidades import find_entities\r\n",
    "import pandas as pd\r\n",
    "import numpy as np\r\n",
    "import operator"
   ],
   "outputs": [],
   "metadata": {}
  },
  {
   "cell_type": "markdown",
   "source": [
    "# **Obtener Tweets**"
   ],
   "metadata": {}
  },
  {
   "cell_type": "code",
   "execution_count": 2,
   "source": [
    "# Obtener trends\r\n",
    "trends = getTrend()\r\n",
    "print(trends)"
   ],
   "outputs": [
    {
     "output_type": "stream",
     "name": "stdout",
     "text": [
      "[✓] Trends successfully extracted.\n",
      "['#CallOutRacismHateSpeech', '#LaMoradaXRPP', '#TheDay_sevENstars_Connected', '#nochedeconfesiones', '#엔하이픈_7개_별들이_연결된_날', 'Arley', 'Austria', 'Barcos', 'Benítez', 'Bosnia', 'Bryan', 'Bustos', 'COLBERT', 'Calcaterra', 'Congreso', 'Corzo', 'Cusco FC', 'ENHYPEN 1ST ANNIVERSARY', 'España', 'Gone Away', 'Guillén', 'Hildebrandt', 'Juan Pablo Varillas', 'La Resistencia', 'Lilia Paredes', 'Liza', 'Lora', 'Maeve', 'Melgar', 'Merino', 'Mitch', 'Mosquera', 'México', 'Otis', 'Percy Rojas', 'Pirata', 'Riquelme', 'Ruby', 'Sporting Cristal', 'THE ENHYPEN DIMENSION OPENS', 'Taylor', 'Tony', 'Trucha', 'Yotun', 'blackpink onu', 'datum', 'godoy', 'juan pari', 'leao', 'raziel garcía']\n"
     ]
    }
   ],
   "metadata": {}
  },
  {
   "cell_type": "code",
   "execution_count": 3,
   "source": [
    "# # Obtener tweets\r\n",
    "# get_tweets_tweepy(\"juan pari\")"
   ],
   "outputs": [],
   "metadata": {}
  },
  {
   "cell_type": "markdown",
   "source": [
    "# **Crear Noticia**"
   ],
   "metadata": {}
  },
  {
   "cell_type": "markdown",
   "source": [
    "## Leer trend en json"
   ],
   "metadata": {}
  },
  {
   "cell_type": "code",
   "execution_count": 4,
   "source": [
    "trend_path = 'tweets\\spiderman.json'\r\n",
    "trend_name = trend_path.split('\\\\')[-1].split('.')[0]\r\n",
    "data = pd.read_json(trend_path, lines=True)\r\n",
    "data.head()"
   ],
   "outputs": [
    {
     "output_type": "execute_result",
     "data": {
      "text/html": [
       "<div>\n",
       "<style scoped>\n",
       "    .dataframe tbody tr th:only-of-type {\n",
       "        vertical-align: middle;\n",
       "    }\n",
       "\n",
       "    .dataframe tbody tr th {\n",
       "        vertical-align: top;\n",
       "    }\n",
       "\n",
       "    .dataframe thead th {\n",
       "        text-align: right;\n",
       "    }\n",
       "</style>\n",
       "<table border=\"1\" class=\"dataframe\">\n",
       "  <thead>\n",
       "    <tr style=\"text-align: right;\">\n",
       "      <th></th>\n",
       "      <th>id</th>\n",
       "      <th>text</th>\n",
       "      <th>screen_name</th>\n",
       "      <th>user_followers</th>\n",
       "      <th>retweet_count</th>\n",
       "      <th>favorite_count</th>\n",
       "      <th>date</th>\n",
       "      <th>language</th>\n",
       "      <th>img</th>\n",
       "    </tr>\n",
       "  </thead>\n",
       "  <tbody>\n",
       "    <tr>\n",
       "      <th>0</th>\n",
       "      <td>1436286323460083712</td>\n",
       "      <td>En 2002 se estrenó la primera película de la s...</td>\n",
       "      <td>manzottipablo</td>\n",
       "      <td>38066</td>\n",
       "      <td>320</td>\n",
       "      <td>1607</td>\n",
       "      <td>2021-09-10 11:11:59</td>\n",
       "      <td>es</td>\n",
       "      <td>http://pbs.twimg.com/ext_tw_video_thumb/143628...</td>\n",
       "    </tr>\n",
       "    <tr>\n",
       "      <th>1</th>\n",
       "      <td>1436069507148177408</td>\n",
       "      <td>OFICIAL: #Sony confirma que #InsomniacGames es...</td>\n",
       "      <td>GabyMeza8</td>\n",
       "      <td>228765</td>\n",
       "      <td>213</td>\n",
       "      <td>2783</td>\n",
       "      <td>2021-09-09 20:50:26</td>\n",
       "      <td>es</td>\n",
       "      <td>http://pbs.twimg.com/media/E-3xmmuWQAgLhMo.jpg</td>\n",
       "    </tr>\n",
       "    <tr>\n",
       "      <th>2</th>\n",
       "      <td>1437883851909615616</td>\n",
       "      <td>¡UN ENCUENTRO SEGURO! En entrevista para #IGN,...</td>\n",
       "      <td>GabyMeza8</td>\n",
       "      <td>228765</td>\n",
       "      <td>140</td>\n",
       "      <td>2545</td>\n",
       "      <td>2021-09-14 20:59:59</td>\n",
       "      <td>es</td>\n",
       "      <td>http://pbs.twimg.com/media/E_RjvftWUAYUDLB.jpg</td>\n",
       "    </tr>\n",
       "    <tr>\n",
       "      <th>3</th>\n",
       "      <td>1439106087995727872</td>\n",
       "      <td>yo explicandole a @LauChurrupit las peliculas ...</td>\n",
       "      <td>gonzbur</td>\n",
       "      <td>331</td>\n",
       "      <td>0</td>\n",
       "      <td>0</td>\n",
       "      <td>2021-09-18 05:56:43</td>\n",
       "      <td>es</td>\n",
       "      <td>http://pbs.twimg.com/media/E_i7FrKWEAINCFU.jpg</td>\n",
       "    </tr>\n",
       "    <tr>\n",
       "      <th>4</th>\n",
       "      <td>1439105999441326080</td>\n",
       "      <td>Nada más espérense a que me llegue mi traje de...</td>\n",
       "      <td>felixmjorge</td>\n",
       "      <td>1784</td>\n",
       "      <td>0</td>\n",
       "      <td>0</td>\n",
       "      <td>2021-09-18 05:56:22</td>\n",
       "      <td>es</td>\n",
       "      <td>http://pbs.twimg.com/media/E_i7RuLVgAIkBKd.jpg</td>\n",
       "    </tr>\n",
       "  </tbody>\n",
       "</table>\n",
       "</div>"
      ],
      "text/plain": [
       "                    id                                               text  \\\n",
       "0  1436286323460083712  En 2002 se estrenó la primera película de la s...   \n",
       "1  1436069507148177408  OFICIAL: #Sony confirma que #InsomniacGames es...   \n",
       "2  1437883851909615616  ¡UN ENCUENTRO SEGURO! En entrevista para #IGN,...   \n",
       "3  1439106087995727872  yo explicandole a @LauChurrupit las peliculas ...   \n",
       "4  1439105999441326080  Nada más espérense a que me llegue mi traje de...   \n",
       "\n",
       "     screen_name  user_followers  retweet_count  favorite_count  \\\n",
       "0  manzottipablo           38066            320            1607   \n",
       "1      GabyMeza8          228765            213            2783   \n",
       "2      GabyMeza8          228765            140            2545   \n",
       "3        gonzbur             331              0               0   \n",
       "4    felixmjorge            1784              0               0   \n",
       "\n",
       "                 date language  \\\n",
       "0 2021-09-10 11:11:59       es   \n",
       "1 2021-09-09 20:50:26       es   \n",
       "2 2021-09-14 20:59:59       es   \n",
       "3 2021-09-18 05:56:43       es   \n",
       "4 2021-09-18 05:56:22       es   \n",
       "\n",
       "                                                 img  \n",
       "0  http://pbs.twimg.com/ext_tw_video_thumb/143628...  \n",
       "1     http://pbs.twimg.com/media/E-3xmmuWQAgLhMo.jpg  \n",
       "2     http://pbs.twimg.com/media/E_RjvftWUAYUDLB.jpg  \n",
       "3     http://pbs.twimg.com/media/E_i7FrKWEAINCFU.jpg  \n",
       "4     http://pbs.twimg.com/media/E_i7RuLVgAIkBKd.jpg  "
      ]
     },
     "metadata": {},
     "execution_count": 4
    }
   ],
   "metadata": {}
  },
  {
   "cell_type": "markdown",
   "source": [
    "## Limpieza de datos"
   ],
   "metadata": {}
  },
  {
   "cell_type": "code",
   "execution_count": 5,
   "source": [
    "data_clean = clean_data(trend_path)\r\n",
    "data_clean.drop_duplicates(data_clean.columns[~data_clean.columns.isin(['favorite_count'])], keep = 'first')\r\n",
    "data_clean.head()"
   ],
   "outputs": [
    {
     "output_type": "execute_result",
     "data": {
      "text/html": [
       "<div>\n",
       "<style scoped>\n",
       "    .dataframe tbody tr th:only-of-type {\n",
       "        vertical-align: middle;\n",
       "    }\n",
       "\n",
       "    .dataframe tbody tr th {\n",
       "        vertical-align: top;\n",
       "    }\n",
       "\n",
       "    .dataframe thead th {\n",
       "        text-align: right;\n",
       "    }\n",
       "</style>\n",
       "<table border=\"1\" class=\"dataframe\">\n",
       "  <thead>\n",
       "    <tr style=\"text-align: right;\">\n",
       "      <th></th>\n",
       "      <th>id</th>\n",
       "      <th>text</th>\n",
       "      <th>screen_name</th>\n",
       "      <th>user_followers</th>\n",
       "      <th>retweet_count</th>\n",
       "      <th>favorite_count</th>\n",
       "      <th>date</th>\n",
       "      <th>language</th>\n",
       "      <th>img</th>\n",
       "    </tr>\n",
       "  </thead>\n",
       "  <tbody>\n",
       "    <tr>\n",
       "      <th>0</th>\n",
       "      <td>1436286323460083712</td>\n",
       "      <td>en   se estreno la primera pelicula de la saga...</td>\n",
       "      <td>manzottipablo</td>\n",
       "      <td>38066</td>\n",
       "      <td>320</td>\n",
       "      <td>1607</td>\n",
       "      <td>2021-09-10 11:11:59</td>\n",
       "      <td>es</td>\n",
       "      <td>http://pbs.twimg.com/ext_tw_video_thumb/143628...</td>\n",
       "    </tr>\n",
       "    <tr>\n",
       "      <th>1</th>\n",
       "      <td>1436069507148177408</td>\n",
       "      <td>oficial sony confirma que insomniacgames esta ...</td>\n",
       "      <td>GabyMeza8</td>\n",
       "      <td>228765</td>\n",
       "      <td>213</td>\n",
       "      <td>2783</td>\n",
       "      <td>2021-09-09 20:50:26</td>\n",
       "      <td>es</td>\n",
       "      <td>http://pbs.twimg.com/media/E-3xmmuWQAgLhMo.jpg</td>\n",
       "    </tr>\n",
       "    <tr>\n",
       "      <th>2</th>\n",
       "      <td>1437883851909615616</td>\n",
       "      <td>un encuentro seguro en entrevista para ign an...</td>\n",
       "      <td>GabyMeza8</td>\n",
       "      <td>228765</td>\n",
       "      <td>140</td>\n",
       "      <td>2545</td>\n",
       "      <td>2021-09-14 20:59:59</td>\n",
       "      <td>es</td>\n",
       "      <td>http://pbs.twimg.com/media/E_RjvftWUAYUDLB.jpg</td>\n",
       "    </tr>\n",
       "    <tr>\n",
       "      <th>3</th>\n",
       "      <td>1439106087995727872</td>\n",
       "      <td>yo explicandole a lauchurrupit las peliculas d...</td>\n",
       "      <td>gonzbur</td>\n",
       "      <td>331</td>\n",
       "      <td>0</td>\n",
       "      <td>0</td>\n",
       "      <td>2021-09-18 05:56:43</td>\n",
       "      <td>es</td>\n",
       "      <td>http://pbs.twimg.com/media/E_i7FrKWEAINCFU.jpg</td>\n",
       "    </tr>\n",
       "    <tr>\n",
       "      <th>4</th>\n",
       "      <td>1439105999441326080</td>\n",
       "      <td>nada mas esperense a que me llegue mi traje de...</td>\n",
       "      <td>felixmjorge</td>\n",
       "      <td>1784</td>\n",
       "      <td>0</td>\n",
       "      <td>0</td>\n",
       "      <td>2021-09-18 05:56:22</td>\n",
       "      <td>es</td>\n",
       "      <td>http://pbs.twimg.com/media/E_i7RuLVgAIkBKd.jpg</td>\n",
       "    </tr>\n",
       "  </tbody>\n",
       "</table>\n",
       "</div>"
      ],
      "text/plain": [
       "                    id                                               text  \\\n",
       "0  1436286323460083712  en   se estreno la primera pelicula de la saga...   \n",
       "1  1436069507148177408  oficial sony confirma que insomniacgames esta ...   \n",
       "2  1437883851909615616   un encuentro seguro en entrevista para ign an...   \n",
       "3  1439106087995727872  yo explicandole a lauchurrupit las peliculas d...   \n",
       "4  1439105999441326080  nada mas esperense a que me llegue mi traje de...   \n",
       "\n",
       "     screen_name  user_followers  retweet_count  favorite_count  \\\n",
       "0  manzottipablo           38066            320            1607   \n",
       "1      GabyMeza8          228765            213            2783   \n",
       "2      GabyMeza8          228765            140            2545   \n",
       "3        gonzbur             331              0               0   \n",
       "4    felixmjorge            1784              0               0   \n",
       "\n",
       "                 date language  \\\n",
       "0 2021-09-10 11:11:59       es   \n",
       "1 2021-09-09 20:50:26       es   \n",
       "2 2021-09-14 20:59:59       es   \n",
       "3 2021-09-18 05:56:43       es   \n",
       "4 2021-09-18 05:56:22       es   \n",
       "\n",
       "                                                 img  \n",
       "0  http://pbs.twimg.com/ext_tw_video_thumb/143628...  \n",
       "1     http://pbs.twimg.com/media/E-3xmmuWQAgLhMo.jpg  \n",
       "2     http://pbs.twimg.com/media/E_RjvftWUAYUDLB.jpg  \n",
       "3     http://pbs.twimg.com/media/E_i7FrKWEAINCFU.jpg  \n",
       "4     http://pbs.twimg.com/media/E_i7RuLVgAIkBKd.jpg  "
      ]
     },
     "metadata": {},
     "execution_count": 5
    }
   ],
   "metadata": {}
  },
  {
   "cell_type": "markdown",
   "source": [
    "## Palabras de mayor importancia - Count Vectorizer"
   ],
   "metadata": {}
  },
  {
   "cell_type": "code",
   "execution_count": 6,
   "source": [
    "# Definir stopwords\r\n",
    "stop_word_es = get_stop_words('spanish')\r\n",
    "def find_top_words(data):\r\n",
    "    # contabilizar frecuencias mediante CV\r\n",
    "    cv = CountVectorizer(stop_words= stop_word_es)\r\n",
    "    cv_matrix = cv.fit_transform(data['text'])\r\n",
    "    count_words = np.sum(cv_matrix.toarray(), axis=0)\r\n",
    "    words_cv =  {key:count_words[cv.vocabulary_[key]] for key in cv.vocabulary_}\r\n",
    "    top_words_cv = sorted(words_cv.items(), key=operator.itemgetter(1), reverse=True)\r\n",
    "\r\n",
    "    # contabilizar frecuencia mediante IDF\r\n",
    "    tfidf = TfidfTransformer()\r\n",
    "    tfidf_matrix = tfidf.fit_transform(cv_matrix)\r\n",
    "    words_idf =  dict(zip(cv.get_feature_names(), tfidf.idf_))\r\n",
    "    top_words_idf =  sorted(words_idf.items(), key=operator.itemgetter(1), reverse=True)\r\n",
    "    return top_words_cv, top_words_idf"
   ],
   "outputs": [],
   "metadata": {}
  },
  {
   "cell_type": "code",
   "execution_count": 7,
   "source": [
    "cv, idf = find_top_words(data_clean)"
   ],
   "outputs": [],
   "metadata": {}
  },
  {
   "cell_type": "markdown",
   "source": [
    "## Clasidicacion mediante glosarios"
   ],
   "metadata": {}
  },
  {
   "cell_type": "code",
   "execution_count": 8,
   "source": [
    "# Cargar glosarios\r\n",
    "glossaries = {}\r\n",
    "with os.scandir('glossaries') as gloss_scanIte:\r\n",
    "    for dir in gloss_scanIte:\r\n",
    "        tmp = open(dir, 'r').readlines()\r\n",
    "        lines = [ without_accents(word.rsplit('\\n')[0]) for word in tmp]\r\n",
    "        name = dir.path.split('\\\\')[-1].split('.')[0]\r\n",
    "        glossaries[name] = lines\r\n",
    "\r\n",
    "# Identificar categoria del trend \r\n",
    "points = {}\r\n",
    "words_found = {}\r\n",
    "for key in glossaries:\r\n",
    "    count = 0\r\n",
    "    tmp = []\r\n",
    "    for word, score in cv:\r\n",
    "        if word in glossaries[key]:\r\n",
    "            tmp.append(word)\r\n",
    "            count += score\r\n",
    "    points[key] = count\r\n",
    "    words_found[key] = tmp\r\n",
    "category = sorted(points.items(), key=operator.itemgetter(1), reverse=True)[0][0]\r\n",
    "category"
   ],
   "outputs": [
    {
     "output_type": "execute_result",
     "data": {
      "text/plain": [
       "'entretenimiento'"
      ]
     },
     "metadata": {},
     "execution_count": 8
    }
   ],
   "metadata": {}
  },
  {
   "cell_type": "markdown",
   "source": [
    "## Identificacion de titular"
   ],
   "metadata": {}
  },
  {
   "cell_type": "code",
   "execution_count": 9,
   "source": [
    "data_top_by_favorite = data.sort_values('favorite_count', ascending=False)\r\n",
    "data_top_by_favorite.iloc[0,1]"
   ],
   "outputs": [
    {
     "output_type": "execute_result",
     "data": {
      "text/plain": [
       "'Spiderman 2 y God of War Ragnarok, suficientes razones para comprarme una ps5 https://t.co/xqxC5ADOPU'"
      ]
     },
     "metadata": {},
     "execution_count": 9
    }
   ],
   "metadata": {}
  },
  {
   "cell_type": "code",
   "execution_count": 10,
   "source": [
    "data_top_by_user_followers = data.sort_values('user_followers', ascending=False)\r\n",
    "data_top_by_user_followers.iloc[0,1]"
   ],
   "outputs": [
    {
     "output_type": "execute_result",
     "data": {
      "text/plain": [
       "'¡WE. ARE. VENOM!\\n\\n#SpiderMan2 llegará con Miles y Peter enfrentándose a Venom en la esperada secuela del afamado juego de SpiderMan. ¿Están emocionados? Llega en 2023 https://t.co/T4OSFTdeZ3'"
      ]
     },
     "metadata": {},
     "execution_count": 10
    }
   ],
   "metadata": {}
  },
  {
   "cell_type": "code",
   "execution_count": 11,
   "source": [
    "data_top_by_retweet_count = data.sort_values('retweet_count', ascending=False)\r\n",
    "data_top_by_retweet_count.iloc[0,1]"
   ],
   "outputs": [
    {
     "output_type": "execute_result",
     "data": {
      "text/plain": [
       "'Spiderman 2 y God of War Ragnarok, suficientes razones para comprarme una ps5 https://t.co/xqxC5ADOPU'"
      ]
     },
     "metadata": {},
     "execution_count": 11
    }
   ],
   "metadata": {}
  },
  {
   "cell_type": "code",
   "execution_count": 12,
   "source": [
    "data_score = data.copy()\r\n",
    "data_score['score'] = data_score['user_followers'] * data_score['retweet_count'] * data_score['favorite_count']\r\n",
    "data_score_top_by_score = data_score.sort_values('score', ascending=False)\r\n",
    "data_score_top_by_score.iloc[0,1]"
   ],
   "outputs": [
    {
     "output_type": "execute_result",
     "data": {
      "text/plain": [
       "'OFICIAL: #Sony confirma que #InsomniacGames está trabajando en la secuela del videojuego de #Spiderman de 2018, con #Venom como villano, el juego sera exclusivo para el #PlayStation 🕷️ https://t.co/Z6qAEsMyn8'"
      ]
     },
     "metadata": {},
     "execution_count": 12
    }
   ],
   "metadata": {}
  },
  {
   "cell_type": "markdown",
   "source": [
    "## Identificar entidades"
   ],
   "metadata": {}
  },
  {
   "cell_type": "code",
   "execution_count": 15,
   "source": [
    "# Prepocesar\r\n",
    "data_clean_by_enti = data.copy()\r\n",
    "data_clean_by_enti['text'] = data_clean_by_enti['text'].apply(clean_text_for_enti)\r\n",
    "\r\n",
    "# entidades\r\n",
    "entities = find_entities(data_clean_by_enti)\r\n",
    "\r\n",
    "# procesar entidades\r\n",
    "top_entities =  sorted(entities.items(), key=operator.itemgetter(1), reverse=True)[:10]\r\n",
    "\r\n",
    "# Encontrar significado\r\n",
    "dic_entities = {}\r\n",
    "for entity in top_entities:\r\n",
    "    dic_entities[entity[0]] = find_mean(entity[0])"
   ],
   "outputs": [],
   "metadata": {}
  },
  {
   "cell_type": "code",
   "execution_count": 16,
   "source": [
    "#find_mean('spider man')"
   ],
   "outputs": [],
   "metadata": {}
  },
  {
   "cell_type": "markdown",
   "source": [
    "## Construccion del .json - output"
   ],
   "metadata": {}
  },
  {
   "cell_type": "code",
   "execution_count": 17,
   "source": [
    "new = {}\r\n",
    "new['title'] = str(data_top_by_user_followers.iloc[0,1])\r\n",
    "new['date'] = str(data_top_by_user_followers.iloc[0,6])\r\n",
    "new['img'] = str(data_top_by_user_followers.iloc[0,8])\r\n",
    "new['category'] = str(category)\r\n",
    "new['entities'] = dic_entities"
   ],
   "outputs": [],
   "metadata": {}
  },
  {
   "cell_type": "code",
   "execution_count": 18,
   "source": [
    "with open(trend_name + '_new.json', 'w', encoding='utf-8') as file:\r\n",
    "    json.dump(new, file, indent=4)"
   ],
   "outputs": [],
   "metadata": {}
  }
 ],
 "metadata": {
  "orig_nbformat": 4,
  "language_info": {
   "name": "python",
   "version": "3.9.5",
   "mimetype": "text/x-python",
   "codemirror_mode": {
    "name": "ipython",
    "version": 3
   },
   "pygments_lexer": "ipython3",
   "nbconvert_exporter": "python",
   "file_extension": ".py"
  },
  "kernelspec": {
   "name": "python3",
   "display_name": "Python 3.9.5 64-bit"
  },
  "interpreter": {
   "hash": "4f1212124a69d0e192309562875881c403391e14c64cb7bbd7e67cd7a8d12ddb"
  }
 },
 "nbformat": 4,
 "nbformat_minor": 2
}