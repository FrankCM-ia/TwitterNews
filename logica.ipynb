{
 "cells": [
  {
   "cell_type": "markdown",
   "source": [
    "IMPORTAR RECURSOS"
   ],
   "metadata": {}
  },
  {
   "cell_type": "code",
   "execution_count": null,
   "source": [
    "from stop_words import get_stop_words\r\n",
    "from sklearn.feature_extraction.text import CountVectorizer, TfidfTransformer\r\n",
    "from sentiment_analysis_spanish import sentiment_analysis\r\n",
    "from nltk.corpus import wordnet\r\n",
    "from functions import *\r\n",
    "from getTweets import *\r\n",
    "from processTopic import *\r\n",
    "from entidades import find_entities\r\n",
    "import pandas as pd\r\n",
    "import numpy as np\r\n",
    "import operator"
   ],
   "outputs": [],
   "metadata": {}
  },
  {
   "cell_type": "markdown",
   "source": [
    "# **Obtener Tweets**"
   ],
   "metadata": {}
  },
  {
   "cell_type": "code",
   "execution_count": 3,
   "source": [
    "# Obtener trends\r\n",
    "trends = getTrend()\r\n",
    "print(trends)"
   ],
   "outputs": [
    {
     "output_type": "stream",
     "name": "stdout",
     "text": [
      "[✓] Trends successfully extracted.\n",
      "['#BTSxWeAreUnderTheSameMoon', '#GetWellSoonJINJIN', '#LaVozSenior', '#ReinasDelShow', '#祝你生日快樂威珍妮', 'Advincula', 'Austria', 'Barcos', 'CELAC', 'Cantinflas', 'Castillo', 'Cateriano', 'Checho', 'Chelsea', 'Corzo', 'Cristiano Ronaldo', 'Cuba', 'De Gea', 'FIRST AND ONLY V', 'Flor de Retama', 'HAVE A SAFE FLIGHT', 'HYPNOTIZED BY ITZY', 'Hildebrandt', 'Hume', 'Keiko', 'Lilia Paredes', 'Lingard', 'Lora', 'Lukaku', 'Maeve', 'Manchester United', 'Mora', 'México', 'Nicaragua', 'Noble', 'Otis', 'PROUD OF YOU LALISA', 'Premier League', 'Ruby', 'Shaw', 'Taperiano', 'Tottenham', 'Uruguay', 'Virginia', 'West Ham', 'Yotun', 'kcon', 'primera dama', 'privacidad', 'yixing']\n"
     ]
    }
   ],
   "metadata": {}
  },
  {
   "cell_type": "code",
   "execution_count": 4,
   "source": [
    "# # Obtener tweets\r\n",
    "get_tweets_tweepy(\"Cristiano Ronaldo\")"
   ],
   "outputs": [
    {
     "output_type": "stream",
     "name": "stdout",
     "text": [
      "[✓] 500 tweets received about Cristiano Ronaldo\n"
     ]
    }
   ],
   "metadata": {}
  },
  {
   "cell_type": "markdown",
   "source": [
    "# **Crear Noticia**"
   ],
   "metadata": {}
  },
  {
   "cell_type": "markdown",
   "source": [
    "## Leer trend en json"
   ],
   "metadata": {}
  },
  {
   "cell_type": "code",
   "execution_count": 5,
   "source": [
    "trend_path = 'tweets\\Cristiano Ronaldo.json'\r\n",
    "trend_name = trend_path.split('\\\\')[-1].split('.')[0]\r\n",
    "data = pd.read_json(trend_path, lines=True)\r\n",
    "data.head()"
   ],
   "outputs": [
    {
     "output_type": "execute_result",
     "data": {
      "text/html": [
       "<div>\n",
       "<style scoped>\n",
       "    .dataframe tbody tr th:only-of-type {\n",
       "        vertical-align: middle;\n",
       "    }\n",
       "\n",
       "    .dataframe tbody tr th {\n",
       "        vertical-align: top;\n",
       "    }\n",
       "\n",
       "    .dataframe thead th {\n",
       "        text-align: right;\n",
       "    }\n",
       "</style>\n",
       "<table border=\"1\" class=\"dataframe\">\n",
       "  <thead>\n",
       "    <tr style=\"text-align: right;\">\n",
       "      <th></th>\n",
       "      <th>id</th>\n",
       "      <th>text</th>\n",
       "      <th>screen_name</th>\n",
       "      <th>user_followers</th>\n",
       "      <th>retweet_count</th>\n",
       "      <th>favorite_count</th>\n",
       "      <th>date</th>\n",
       "      <th>language</th>\n",
       "      <th>img</th>\n",
       "    </tr>\n",
       "  </thead>\n",
       "  <tbody>\n",
       "    <tr>\n",
       "      <th>0</th>\n",
       "      <td>1439584286143926272</td>\n",
       "      <td>➤ Primer partido desde que volvió al United: D...</td>\n",
       "      <td>InvictosSomos</td>\n",
       "      <td>797457</td>\n",
       "      <td>698</td>\n",
       "      <td>4840</td>\n",
       "      <td>2021-09-19 13:36:54</td>\n",
       "      <td>es</td>\n",
       "      <td>http://pbs.twimg.com/media/E_puOLmXoAcOQWm.jpg</td>\n",
       "    </tr>\n",
       "    <tr>\n",
       "      <th>1</th>\n",
       "      <td>1439585542291738624</td>\n",
       "      <td>Cristiano Ronaldo desde que regresó al United:...</td>\n",
       "      <td>InvictosSomos</td>\n",
       "      <td>797457</td>\n",
       "      <td>431</td>\n",
       "      <td>3201</td>\n",
       "      <td>2021-09-19 13:41:54</td>\n",
       "      <td>es</td>\n",
       "      <td>http://pbs.twimg.com/media/E_pvZTkWEAM1eLR.jpg</td>\n",
       "    </tr>\n",
       "    <tr>\n",
       "      <th>2</th>\n",
       "      <td>1439571313119596544</td>\n",
       "      <td>🇵🇹 Cristiano Ronaldo\\n🇫🇷 Paul Labile Pogba\\n\\n...</td>\n",
       "      <td>ManUtd_Es</td>\n",
       "      <td>1062972</td>\n",
       "      <td>75</td>\n",
       "      <td>2004</td>\n",
       "      <td>2021-09-19 12:45:21</td>\n",
       "      <td>es</td>\n",
       "      <td>http://pbs.twimg.com/media/E_ph5L9WUAknQlJ.jpg</td>\n",
       "    </tr>\n",
       "    <tr>\n",
       "      <th>3</th>\n",
       "      <td>1439638084526747648</td>\n",
       "      <td>PES 2022 ppsspp jugamos con el manchester unit...</td>\n",
       "      <td>mundoxretro1</td>\n",
       "      <td>7</td>\n",
       "      <td>0</td>\n",
       "      <td>0</td>\n",
       "      <td>2021-09-19 17:10:41</td>\n",
       "      <td>es</td>\n",
       "      <td></td>\n",
       "    </tr>\n",
       "    <tr>\n",
       "      <th>4</th>\n",
       "      <td>1439637445893574656</td>\n",
       "      <td>¡UNITED SIGUE LÍDER! 🤩 🔝 \\n\\n@ManUtd_Es le gan...</td>\n",
       "      <td>DC4TCS</td>\n",
       "      <td>12619</td>\n",
       "      <td>0</td>\n",
       "      <td>0</td>\n",
       "      <td>2021-09-19 17:08:08</td>\n",
       "      <td>es</td>\n",
       "      <td>http://pbs.twimg.com/media/E_qen2lXsAQcVoY.jpg</td>\n",
       "    </tr>\n",
       "  </tbody>\n",
       "</table>\n",
       "</div>"
      ],
      "text/plain": [
       "                    id                                               text  \\\n",
       "0  1439584286143926272  ➤ Primer partido desde que volvió al United: D...   \n",
       "1  1439585542291738624  Cristiano Ronaldo desde que regresó al United:...   \n",
       "2  1439571313119596544  🇵🇹 Cristiano Ronaldo\\n🇫🇷 Paul Labile Pogba\\n\\n...   \n",
       "3  1439638084526747648  PES 2022 ppsspp jugamos con el manchester unit...   \n",
       "4  1439637445893574656  ¡UNITED SIGUE LÍDER! 🤩 🔝 \\n\\n@ManUtd_Es le gan...   \n",
       "\n",
       "     screen_name  user_followers  retweet_count  favorite_count  \\\n",
       "0  InvictosSomos          797457            698            4840   \n",
       "1  InvictosSomos          797457            431            3201   \n",
       "2      ManUtd_Es         1062972             75            2004   \n",
       "3   mundoxretro1               7              0               0   \n",
       "4         DC4TCS           12619              0               0   \n",
       "\n",
       "                 date language                                             img  \n",
       "0 2021-09-19 13:36:54       es  http://pbs.twimg.com/media/E_puOLmXoAcOQWm.jpg  \n",
       "1 2021-09-19 13:41:54       es  http://pbs.twimg.com/media/E_pvZTkWEAM1eLR.jpg  \n",
       "2 2021-09-19 12:45:21       es  http://pbs.twimg.com/media/E_ph5L9WUAknQlJ.jpg  \n",
       "3 2021-09-19 17:10:41       es                                                  \n",
       "4 2021-09-19 17:08:08       es  http://pbs.twimg.com/media/E_qen2lXsAQcVoY.jpg  "
      ]
     },
     "metadata": {},
     "execution_count": 5
    }
   ],
   "metadata": {}
  },
  {
   "cell_type": "markdown",
   "source": [
    "## Limpieza de datos"
   ],
   "metadata": {}
  },
  {
   "cell_type": "code",
   "execution_count": 6,
   "source": [
    "data_clean = clean_data(trend_path)\r\n",
    "#data_clean.head()"
   ],
   "outputs": [],
   "metadata": {}
  },
  {
   "cell_type": "markdown",
   "source": [
    "## Palabras de mayor importancia - Count Vectorizer"
   ],
   "metadata": {}
  },
  {
   "cell_type": "code",
   "execution_count": 7,
   "source": [
    "# Definir stopwords\r\n",
    "stop_word_es = get_stop_words('spanish')\r\n",
    "def find_top_words(data):\r\n",
    "    # contabilizar frecuencias mediante CV\r\n",
    "    cv = CountVectorizer(stop_words= stop_word_es)\r\n",
    "    cv_matrix = cv.fit_transform(data['text'])\r\n",
    "    count_words = np.sum(cv_matrix.toarray(), axis=0)\r\n",
    "    words_cv =  {key:count_words[cv.vocabulary_[key]] for key in cv.vocabulary_}\r\n",
    "    top_words_cv = sorted(words_cv.items(), key=operator.itemgetter(1), reverse=True)\r\n",
    "\r\n",
    "    # contabilizar frecuencia mediante IDF\r\n",
    "    tfidf = TfidfTransformer()\r\n",
    "    tfidf_matrix = tfidf.fit_transform(cv_matrix)\r\n",
    "    words_idf =  dict(zip(cv.get_feature_names(), tfidf.idf_))\r\n",
    "    top_words_idf =  sorted(words_idf.items(), key=operator.itemgetter(1), reverse=True)\r\n",
    "    return top_words_cv, top_words_idf"
   ],
   "outputs": [],
   "metadata": {}
  },
  {
   "cell_type": "code",
   "execution_count": 8,
   "source": [
    "cv, idf = find_top_words(data_clean)"
   ],
   "outputs": [],
   "metadata": {}
  },
  {
   "cell_type": "markdown",
   "source": [
    "## Clasidicacion mediante glosarios"
   ],
   "metadata": {}
  },
  {
   "cell_type": "code",
   "execution_count": 9,
   "source": [
    "# Cargar glosarios\r\n",
    "glossaries = {}\r\n",
    "with os.scandir('glossaries') as gloss_scanIte:\r\n",
    "    for dir in gloss_scanIte:\r\n",
    "        tmp = open(dir, 'r').readlines()\r\n",
    "        lines = [ without_accents(word.rsplit('\\n')[0]) for word in tmp]\r\n",
    "        name = dir.path.split('\\\\')[-1].split('.')[0]\r\n",
    "        glossaries[name] = lines\r\n",
    "\r\n",
    "        # crear archivo output\r\n",
    "        file = open('results/' + name + '.json', 'a')\r\n",
    "        file.close()\r\n",
    "\r\n",
    "# Identificar categoria del trend \r\n",
    "points = {}\r\n",
    "words_found = {}\r\n",
    "for key in glossaries:\r\n",
    "    count = 0\r\n",
    "    tmp = []\r\n",
    "    for word, score in cv:\r\n",
    "        if word in glossaries[key]:\r\n",
    "            tmp.append(word)\r\n",
    "            count += score\r\n",
    "    points[key] = count\r\n",
    "    words_found[key] = tmp\r\n",
    "category = sorted(points.items(), key=operator.itemgetter(1), reverse=True)[0][0]\r\n",
    "category"
   ],
   "outputs": [
    {
     "output_type": "execute_result",
     "data": {
      "text/plain": [
       "'deportes'"
      ]
     },
     "metadata": {},
     "execution_count": 9
    }
   ],
   "metadata": {}
  },
  {
   "cell_type": "code",
   "execution_count": 68,
   "source": [
    "words_found"
   ],
   "outputs": [
    {
     "output_type": "execute_result",
     "data": {
      "text/plain": [
       "{'deportes': [],\n",
       " 'economia': [],\n",
       " 'entretenimiento': ['bts', 'viaje', 'entrevista', 'arte', 'musica'],\n",
       " 'espectaculos': ['numero', 'arte', 'concierto'],\n",
       " 'politica': ['poder', 'justicia', 'ley'],\n",
       " 'salud': ['corazon', 'salud', 'dolor']}"
      ]
     },
     "metadata": {},
     "execution_count": 68
    }
   ],
   "metadata": {}
  },
  {
   "cell_type": "code",
   "execution_count": 69,
   "source": [
    "points"
   ],
   "outputs": [
    {
     "output_type": "execute_result",
     "data": {
      "text/plain": [
       "{'deportes': 0,\n",
       " 'economia': 0,\n",
       " 'entretenimiento': 382,\n",
       " 'espectaculos': 3,\n",
       " 'politica': 16,\n",
       " 'salud': 17}"
      ]
     },
     "metadata": {},
     "execution_count": 69
    }
   ],
   "metadata": {}
  },
  {
   "cell_type": "markdown",
   "source": [
    "## Identificacion de titular"
   ],
   "metadata": {}
  },
  {
   "cell_type": "code",
   "execution_count": 88,
   "source": [
    "data_top_by_favorite = data.sort_values('favorite_count', ascending=False)\r\n",
    "data_top_by_favorite.iloc[0,1]"
   ],
   "outputs": [
    {
     "output_type": "execute_result",
     "data": {
      "text/plain": [
       "'Spiderman 2 y God of War Ragnarok, suficientes razones para comprarme una ps5 https://t.co/xqxC5ADOPU'"
      ]
     },
     "metadata": {},
     "execution_count": 88
    }
   ],
   "metadata": {}
  },
  {
   "cell_type": "code",
   "execution_count": 89,
   "source": [
    "data_top_by_user_followers = data.sort_values('user_followers', ascending=False)\r\n",
    "data_top_by_user_followers.iloc[0,1]"
   ],
   "outputs": [
    {
     "output_type": "execute_result",
     "data": {
      "text/plain": [
       "'¡WE. ARE. VENOM!\\n\\n#SpiderMan2 llegará con Miles y Peter enfrentándose a Venom en la esperada secuela del afamado juego de SpiderMan. ¿Están emocionados? Llega en 2023 https://t.co/T4OSFTdeZ3'"
      ]
     },
     "metadata": {},
     "execution_count": 89
    }
   ],
   "metadata": {}
  },
  {
   "cell_type": "code",
   "execution_count": 90,
   "source": [
    "data_top_by_retweet_count = data.sort_values('retweet_count', ascending=False)\r\n",
    "data_top_by_retweet_count.iloc[0,1]"
   ],
   "outputs": [
    {
     "output_type": "execute_result",
     "data": {
      "text/plain": [
       "'Spiderman 2 y God of War Ragnarok, suficientes razones para comprarme una ps5 https://t.co/xqxC5ADOPU'"
      ]
     },
     "metadata": {},
     "execution_count": 90
    }
   ],
   "metadata": {}
  },
  {
   "cell_type": "code",
   "execution_count": 91,
   "source": [
    "data_score = data.copy()\r\n",
    "data_score['score'] = data_score['user_followers'] * data_score['retweet_count'] * data_score['favorite_count']\r\n",
    "data_score_top_by_score = data_score.sort_values('score', ascending=False)\r\n",
    "data_score_top_by_score.iloc[0,1]"
   ],
   "outputs": [
    {
     "output_type": "execute_result",
     "data": {
      "text/plain": [
       "'OFICIAL: #Sony confirma que #InsomniacGames está trabajando en la secuela del videojuego de #Spiderman de 2018, con #Venom como villano, el juego sera exclusivo para el #PlayStation 🕷️ https://t.co/Z6qAEsMyn8'"
      ]
     },
     "metadata": {},
     "execution_count": 91
    }
   ],
   "metadata": {}
  },
  {
   "cell_type": "markdown",
   "source": [
    "## Identificar entidades"
   ],
   "metadata": {}
  },
  {
   "cell_type": "code",
   "execution_count": 18,
   "source": [
    "# Prepocesar\r\n",
    "data_clean_by_enti = data.copy()\r\n",
    "data_clean_by_enti['text'] = data_clean_by_enti['text'].apply(clean_text_for_enti)\r\n",
    "\r\n",
    "# entidades\r\n",
    "entities = find_entities(data_clean_by_enti)\r\n",
    "\r\n",
    "# procesar entidades\r\n",
    "top_entities =  sorted(entities.items(), key=operator.itemgetter(1), reverse=True)[:10]\r\n",
    "\r\n",
    "# Encontrar significado\r\n",
    "dic_entities = {}\r\n",
    "for entity in top_entities:\r\n",
    "    dic_entities[entity[0]] = find_mean(entity[0])"
   ],
   "outputs": [],
   "metadata": {}
  },
  {
   "cell_type": "code",
   "execution_count": null,
   "source": [
    "def get_top_entities(data_clean_for_enti):\r\n",
    "    # preprocesar\r\n",
    "    data_clean_for_enti['text'] = data_clean_for_enti['text'].apply(clean_text_for_enti)\r\n",
    "\r\n",
    "    # encontrar entidades\r\n",
    "    entities = find_entities(data_clean_by_enti)\r\n",
    "\r\n",
    "    # procesar entidades\r\n",
    "    top_entities =  sorted(entities.items(), key=operator.itemgetter(1), reverse=True)[:10]\r\n",
    "\r\n",
    "    # Encontrar significado\r\n",
    "    dic_entities = {}\r\n",
    "    for entity in top_entities:\r\n",
    "        dic_entities[entity[0]] = find_mean(entity[0])\r\n",
    "    return dic_entities\r\n"
   ],
   "outputs": [],
   "metadata": {}
  },
  {
   "cell_type": "markdown",
   "source": [
    "## Analisis de Sentimientos"
   ],
   "metadata": {}
  },
  {
   "cell_type": "code",
   "execution_count": 28,
   "source": [
    "from nltk.tokenize import word_tokenize\r\n",
    "from nltk import pos_tag\r\n",
    "pos_dict = {'J':wordnet.ADJ, 'V':wordnet.VERB, 'N':wordnet.NOUN, 'R':wordnet.ADV}\r\n",
    "def token_stop_pos(text):\r\n",
    "    tags = pos_tag(word_tokenize(text))\r\n",
    "    newlist = []\r\n",
    "    for word, tag in tags:\r\n",
    "        #if word.lower() not in set(stopwords.words('spanish')):\r\n",
    "        newlist.append(tuple([word, pos_dict.get(tag[0])]))\r\n",
    "    return newlist\r\n"
   ],
   "outputs": [],
   "metadata": {}
  },
  {
   "cell_type": "code",
   "execution_count": null,
   "source": [
    "data_pos_tag =  data_clean.copy()\r\n",
    "data_pos_tag['POS tagged'] = data_pos_tag['text'].apply()\r\n",
    "data_pos_tag = data_pos_tag.drop(['id', 'img', 'date', 'retweet_count', 'screen_name', 'language', 'favorite_count', 'user_followers'], axis=1)\r\n",
    "data_pos_tag.iloc[2,1]"
   ],
   "outputs": [],
   "metadata": {}
  },
  {
   "cell_type": "code",
   "execution_count": 12,
   "source": [
    "nltk.download('averaged_perceptron_tagger')"
   ],
   "outputs": [
    {
     "output_type": "stream",
     "name": "stderr",
     "text": [
      "[nltk_data] Downloading package averaged_perceptron_tagger to\n",
      "[nltk_data]     C:\\Users\\intel\\AppData\\Roaming\\nltk_data...\n",
      "[nltk_data]   Unzipping taggers\\averaged_perceptron_tagger.zip.\n"
     ]
    },
    {
     "output_type": "execute_result",
     "data": {
      "text/plain": [
       "True"
      ]
     },
     "metadata": {},
     "execution_count": 12
    }
   ],
   "metadata": {}
  },
  {
   "cell_type": "code",
   "execution_count": 15,
   "source": [
    "def SentimentAnalysis(polarity):\r\n",
    "  polarity=float(polarity)\r\n",
    "  if polarity<0.2:\r\n",
    "    return \"Temor\"\r\n",
    "  elif polarity>0.2 and polarity<-0.4:\r\n",
    "    return \"Preocupación\"\r\n",
    "  elif polarity>-0.4 and polarity<0.6:\r\n",
    "    return \"Neutral\"\r\n",
    "  elif polarity>0.6 and polarity<0.8:\r\n",
    "    return \"Optimismo\"\r\n",
    "  else:\r\n",
    "    return \"Alegría\""
   ],
   "outputs": [],
   "metadata": {}
  },
  {
   "cell_type": "code",
   "execution_count": 16,
   "source": [
    "data_sentiment = data_clean.copy()\r\n",
    "sentiment = sentiment_analysis.SentimentAnalysisSpanish()\r\n",
    "data_sentiment['Polarity'] = data_sentiment['text'].apply(sentiment.sentiment) \r\n",
    "data_sentiment['Analysis'] = data_sentiment['Polarity'].apply(SentimentAnalysis)\r\n",
    "data_sentiment.head()"
   ],
   "outputs": [
    {
     "output_type": "execute_result",
     "data": {
      "text/html": [
       "<div>\n",
       "<style scoped>\n",
       "    .dataframe tbody tr th:only-of-type {\n",
       "        vertical-align: middle;\n",
       "    }\n",
       "\n",
       "    .dataframe tbody tr th {\n",
       "        vertical-align: top;\n",
       "    }\n",
       "\n",
       "    .dataframe thead th {\n",
       "        text-align: right;\n",
       "    }\n",
       "</style>\n",
       "<table border=\"1\" class=\"dataframe\">\n",
       "  <thead>\n",
       "    <tr style=\"text-align: right;\">\n",
       "      <th></th>\n",
       "      <th>id</th>\n",
       "      <th>text</th>\n",
       "      <th>screen_name</th>\n",
       "      <th>user_followers</th>\n",
       "      <th>retweet_count</th>\n",
       "      <th>favorite_count</th>\n",
       "      <th>date</th>\n",
       "      <th>language</th>\n",
       "      <th>img</th>\n",
       "      <th>Polarity</th>\n",
       "      <th>Analysis</th>\n",
       "    </tr>\n",
       "  </thead>\n",
       "  <tbody>\n",
       "    <tr>\n",
       "      <th>0</th>\n",
       "      <td>1439348580137975808</td>\n",
       "      <td>bien dicen que el enemigo principal siempre es...</td>\n",
       "      <td>CartoonLA</td>\n",
       "      <td>110356</td>\n",
       "      <td>548</td>\n",
       "      <td>2295</td>\n",
       "      <td>2021-09-18 22:00:17</td>\n",
       "      <td>es</td>\n",
       "      <td>http://pbs.twimg.com/media/E_mX59ZWYAAdAWe.png</td>\n",
       "      <td>0.003758</td>\n",
       "      <td>Temor</td>\n",
       "    </tr>\n",
       "    <tr>\n",
       "      <th>1</th>\n",
       "      <td>1439195783291719680</td>\n",
       "      <td>pues si es el batmanday y se pueden hacer cosa...</td>\n",
       "      <td>ClaudioSensasao</td>\n",
       "      <td>44195</td>\n",
       "      <td>239</td>\n",
       "      <td>1115</td>\n",
       "      <td>2021-09-18 11:53:08</td>\n",
       "      <td>es</td>\n",
       "      <td>http://pbs.twimg.com/ext_tw_video_thumb/143919...</td>\n",
       "      <td>0.004348</td>\n",
       "      <td>Temor</td>\n",
       "    </tr>\n",
       "    <tr>\n",
       "      <th>2</th>\n",
       "      <td>1438982925404545024</td>\n",
       "      <td>para conmemorar batmanday manana hbomaxla lanz...</td>\n",
       "      <td>GabyMeza8</td>\n",
       "      <td>229149</td>\n",
       "      <td>396</td>\n",
       "      <td>3797</td>\n",
       "      <td>2021-09-17 21:47:19</td>\n",
       "      <td>es</td>\n",
       "      <td>http://pbs.twimg.com/media/E_hLU-PXEAAz9jc.jpg</td>\n",
       "      <td>0.007224</td>\n",
       "      <td>Temor</td>\n",
       "    </tr>\n",
       "    <tr>\n",
       "      <th>3</th>\n",
       "      <td>1439577739523235840</td>\n",
       "      <td>hola a otro domingo azul en la ciudad the door...</td>\n",
       "      <td>mexicocityblues</td>\n",
       "      <td>217</td>\n",
       "      <td>0</td>\n",
       "      <td>0</td>\n",
       "      <td>2021-09-19 13:10:53</td>\n",
       "      <td>es</td>\n",
       "      <td>http://pbs.twimg.com/media/E_poTBpX0AA8Iz2.jpg</td>\n",
       "      <td>0.666602</td>\n",
       "      <td>Optimismo</td>\n",
       "    </tr>\n",
       "    <tr>\n",
       "      <th>4</th>\n",
       "      <td>1439575283737243648</td>\n",
       "      <td>batmanday alertasismica todo en una sola esce...</td>\n",
       "      <td>RayoVen</td>\n",
       "      <td>4650</td>\n",
       "      <td>0</td>\n",
       "      <td>0</td>\n",
       "      <td>2021-09-19 13:01:08</td>\n",
       "      <td>es</td>\n",
       "      <td>http://pbs.twimg.com/ext_tw_video_thumb/143957...</td>\n",
       "      <td>0.982905</td>\n",
       "      <td>Alegría</td>\n",
       "    </tr>\n",
       "  </tbody>\n",
       "</table>\n",
       "</div>"
      ],
      "text/plain": [
       "                    id                                               text  \\\n",
       "0  1439348580137975808  bien dicen que el enemigo principal siempre es...   \n",
       "1  1439195783291719680  pues si es el batmanday y se pueden hacer cosa...   \n",
       "2  1438982925404545024  para conmemorar batmanday manana hbomaxla lanz...   \n",
       "3  1439577739523235840  hola a otro domingo azul en la ciudad the door...   \n",
       "4  1439575283737243648   batmanday alertasismica todo en una sola esce...   \n",
       "\n",
       "       screen_name  user_followers  retweet_count  favorite_count  \\\n",
       "0        CartoonLA          110356            548            2295   \n",
       "1  ClaudioSensasao           44195            239            1115   \n",
       "2        GabyMeza8          229149            396            3797   \n",
       "3  mexicocityblues             217              0               0   \n",
       "4          RayoVen            4650              0               0   \n",
       "\n",
       "                 date language  \\\n",
       "0 2021-09-18 22:00:17       es   \n",
       "1 2021-09-18 11:53:08       es   \n",
       "2 2021-09-17 21:47:19       es   \n",
       "3 2021-09-19 13:10:53       es   \n",
       "4 2021-09-19 13:01:08       es   \n",
       "\n",
       "                                                 img  Polarity   Analysis  \n",
       "0     http://pbs.twimg.com/media/E_mX59ZWYAAdAWe.png  0.003758      Temor  \n",
       "1  http://pbs.twimg.com/ext_tw_video_thumb/143919...  0.004348      Temor  \n",
       "2     http://pbs.twimg.com/media/E_hLU-PXEAAz9jc.jpg  0.007224      Temor  \n",
       "3     http://pbs.twimg.com/media/E_poTBpX0AA8Iz2.jpg  0.666602  Optimismo  \n",
       "4  http://pbs.twimg.com/ext_tw_video_thumb/143957...  0.982905    Alegría  "
      ]
     },
     "metadata": {},
     "execution_count": 16
    }
   ],
   "metadata": {}
  },
  {
   "cell_type": "code",
   "execution_count": 17,
   "source": [
    "tb_counts = data_sentiment.Analysis.value_counts()\r\n",
    "tb_count= data_sentiment.Analysis.value_counts()\r\n",
    "#plt.figure(figsize=(10, 7))\r\n",
    "aux = plt.pie(tb_counts.values, labels = tb_counts.index, autopct='%1.1f%%', shadow=False)"
   ],
   "outputs": [
    {
     "output_type": "display_data",
     "data": {
      "image/png": "[encoded data removed]",
      "text/plain": [
       "<Figure size 432x288 with 1 Axes>"
      ]
     },
     "metadata": {}
    }
   ],
   "metadata": {}
  },
  {
   "cell_type": "markdown",
   "source": [
    "## Construccion del .json - output"
   ],
   "metadata": {}
  },
  {
   "cell_type": "code",
   "execution_count": 19,
   "source": [
    "new = {}\r\n",
    "new['title'] = str(data_score_top_by_score.iloc[0,1])\r\n",
    "new['date'] = str(data_top_by_user_followers.iloc[0,6])\r\n",
    "new['img'] = str(data_top_by_user_followers.iloc[0,8])\r\n",
    "new['category'] = str(category)\r\n",
    "new['entities'] = dic_entities"
   ],
   "outputs": [],
   "metadata": {}
  },
  {
   "cell_type": "code",
   "execution_count": 21,
   "source": [
    "with open('results/'+ category + '.json', 'a', encoding='utf-8') as file:\r\n",
    "    json.dump(new, file, indent=4)"
   ],
   "outputs": [],
   "metadata": {}
  }
 ],
 "metadata": {
  "orig_nbformat": 4,
  "language_info": {
   "name": "python",
   "version": "3.9.5",
   "mimetype": "text/x-python",
   "codemirror_mode": {
    "name": "ipython",
    "version": 3
   },
   "pygments_lexer": "ipython3",
   "nbconvert_exporter": "python",
   "file_extension": ".py"
  },
  "kernelspec": {
   "name": "python3",
   "display_name": "Python 3.9.5 64-bit"
  },
  "interpreter": {
   "hash": "4f1212124a69d0e192309562875881c403391e14c64cb7bbd7e67cd7a8d12ddb"
  }
 },
 "nbformat": 4,
 "nbformat_minor": 2
}